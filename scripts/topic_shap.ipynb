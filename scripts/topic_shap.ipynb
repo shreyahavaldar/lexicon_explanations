{
 "cells": [
  {
   "cell_type": "code",
   "execution_count": 1,
   "metadata": {},
   "outputs": [
    {
     "name": "stderr",
     "output_type": "stream",
     "text": [
      "/home/steinad/anaconda3/envs/lexx/lib/python3.10/site-packages/tqdm/auto.py:22: TqdmWarning: IProgress not found. Please update jupyter and ipywidgets. See https://ipywidgets.readthedocs.io/en/stable/user_install.html\n",
      "  from .autonotebook import tqdm as notebook_tqdm\n"
     ]
    }
   ],
   "source": [
    "from src.utils import *\n",
    "import numpy as np"
   ]
  },
  {
   "cell_type": "code",
   "execution_count": 2,
   "metadata": {},
   "outputs": [],
   "source": [
    "roberta_topic_vals = load(\"topic_vals_roberta_cola\").reshape(1043, 73)\n",
    "roberta_word_vals = load(\"word_vals_roberta_cola\")\n",
    "gpt2_topic_vals = load(\"topic_vals_gpt2_cola\").reshape(1043, 73)\n",
    "gpt2_word_vals = load(\"word_vals_gpt2_cola\")"
   ]
  },
  {
   "cell_type": "code",
   "execution_count": 3,
   "metadata": {},
   "outputs": [
    {
     "name": "stdout",
     "output_type": "stream",
     "text": [
      "[-0.10056100277738136, 0.3751748564907096, 0.2852067861028693, -0.14280781161959294, 0.4675968735200631, -0.15299237531597737, 0.17787551122729656, 0.0034729123147793223, 0.02383104563404473]\n"
     ]
    }
   ],
   "source": [
    "print(roberta_word_vals[0])"
   ]
  },
  {
   "cell_type": "code",
   "execution_count": 4,
   "metadata": {},
   "outputs": [
    {
     "name": "stdout",
     "output_type": "stream",
     "text": [
      "[2.10278409 2.10327668 2.11103148 2.15267332 2.43413353]\n"
     ]
    }
   ],
   "source": [
    "diffs = np.sum(np.abs(roberta_topic_vals - gpt2_topic_vals), axis=1)\n",
    "biggest_diff = np.argsort(diffs)\n",
    "print(diffs[biggest_diff[-5:]])"
   ]
  },
  {
   "cell_type": "code",
   "execution_count": 13,
   "metadata": {},
   "outputs": [
    {
     "name": "stderr",
     "output_type": "stream",
     "text": [
      "Found cached dataset glue (/home/steinad/.cache/huggingface/datasets/glue/cola/1.0.0/dacbe3125aa31d7f70367a07a8a9e72a5a0bfeb5fc42e75c9db75b96da6053ad)\n",
      "Found cached dataset glue (/home/steinad/.cache/huggingface/datasets/glue/cola/1.0.0/dacbe3125aa31d7f70367a07a8a9e72a5a0bfeb5fc42e75c9db75b96da6053ad)\n"
     ]
    },
    {
     "name": "stdout",
     "output_type": "stream",
     "text": [
      "['ACHIEVE' 'ADJ' 'ADVERB' 'AFFECT' 'AFFILIATION' 'ANGER' 'ANX' 'ARTICLE'\n",
      " 'ASSENT' 'AUXVERB' 'BIO' 'BODY' 'CAUSE' 'CERTAIN' 'COGPROC' 'COMPARE'\n",
      " 'CONJ' 'DEATH' 'DIFFER' 'DISCREP' 'DRIVES' 'FAMILY' 'FEEL' 'FEMALE'\n",
      " 'FILLER' 'FOCUSFUTURE' 'FOCUSPAST' 'FOCUSPRESENT' 'FRIEND' 'FUNCTION'\n",
      " 'HEALTH' 'HEAR' 'HOME' 'I' 'INFORMAL' 'INGEST' 'INSIGHT' 'INTERROG'\n",
      " 'IPRON' 'LEISURE' 'MALE' 'MONEY' 'MOTION' 'NEGATE' 'NEGEMO' 'NETSPEAK'\n",
      " 'NONFLU' 'NUMBER' 'PERCEPT' 'POSEMO' 'POWER' 'PPRON' 'PREP' 'PRONOUN'\n",
      " 'QUANT' 'RELATIV' 'RELIG' 'REWARD' 'RISK' 'SAD' 'SEE' 'SEXUAL' 'SHEHE'\n",
      " 'SOCIAL' 'SPACE' 'SWEAR' 'TENTAT' 'THEY' 'TIME' 'VERB' 'WE' 'WORK' 'YOU']\n",
      "('heed', {'FOCUSPRESENT', 'COGPROC', 'INSIGHT', 'VERB'})\n"
     ]
    }
   ],
   "source": [
    "config = {\"dataset\": \"cola\", \"topics\": \"liwc\"}\n",
    "data_train, data_val = load_data(config)\n",
    "x = [data_val[i]['sentence'] for i in range(len(data_val))]\n",
    "x = [xi for xi in x if len(xi.split()) > 1]\n",
    "topics, topic_names, word2idx = get_topics(config, data_train)"
   ]
  },
  {
   "cell_type": "code",
   "execution_count": 17,
   "metadata": {},
   "outputs": [
    {
     "name": "stdout",
     "output_type": "stream",
     "text": [
      "The sailors rode the breeze clear of the rocks.\n",
      "ADJ: -0.030598475063195477\n",
      "PERCEPT: -0.030598475063195477\n",
      "COGPROC: -0.030598475063195477\n",
      "CERTAIN: -0.030598475063195477\n",
      "SEE: -0.030598475063195477\n",
      "FUNCTION: 0.08893775561364828\n",
      "PREP: 0.08893775561364828\n",
      "HEALTH: 0.2089022911875408\n",
      "SEXUAL: 0.2089022911875408\n",
      "BIO: 0.2089022911875408\n",
      "0.936796795576811\n",
      "\n",
      "HEALTH: -0.024760359525680516\n",
      "BIO: -0.024760359525680516\n",
      "SEXUAL: -0.024760359525680516\n",
      "ACHIEVE: 0.0\n",
      "NUMBER: 0.0\n",
      "COGPROC: 0.02237122416496277\n",
      "ADJ: 0.02237122416496277\n",
      "PERCEPT: 0.02237122416496277\n",
      "FUNCTION: 0.06132630407810212\n",
      "PREP: 0.06132630407810212\n",
      "0.19042205810546886\n"
     ]
    }
   ],
   "source": [
    "ind = 0\n",
    "print(x[ind])\n",
    "topic_values, sorted_names = sort_shap(roberta_topic_vals[ind], topic_names)\n",
    "for i in range(5):\n",
    "    print(f\"{sorted_names[i]}: {topic_values[i]}\")\n",
    "for i in range(5, 0, -1):\n",
    "    print(f\"{sorted_names[-i]}: {topic_values[-i]}\")\n",
    "print(np.sum(topic_values))\n",
    "\n",
    "print()\n",
    "topic_values, sorted_names = sort_shap(gpt2_topic_vals[ind], topic_names)\n",
    "for i in range(5):\n",
    "    print(f\"{sorted_names[i]}: {topic_values[i]}\")\n",
    "for i in range(5, 0, -1):\n",
    "    print(f\"{sorted_names[-i]}: {topic_values[-i]}\")\n",
    "print(np.sum(topic_values))"
   ]
  },
  {
   "cell_type": "code",
   "execution_count": 15,
   "metadata": {},
   "outputs": [
    {
     "name": "stdout",
     "output_type": "stream",
     "text": [
      "RELIG: 0.0\n",
      "ASSENT: 0.0\n",
      "NETSPEAK: 0.0\n",
      "FILLER: 0.0\n",
      "NONFLU: 0.015439969404704039\n",
      "VERB: 45.059353625680785\n",
      "FUNCTION: 60.41532243189281\n",
      "SEXUAL: 148.29915543609349\n",
      "HEALTH: 148.92181427319204\n",
      "BIO: 151.7978565769454\n",
      "\n",
      "I: 0.0\n",
      "NETSPEAK: 0.0\n",
      "RELIG: 0.0\n",
      "FILLER: 0.0\n",
      "ASSENT: 0.0\n",
      "VERB: 31.993656075250907\n",
      "FUNCTION: 40.281780652241046\n",
      "HEALTH: 74.76326663997835\n",
      "BIO: 74.9713237520887\n",
      "SEXUAL: 75.0020561495783\n"
     ]
    }
   ],
   "source": [
    "roberta_feat_imp = np.sum(np.abs(roberta_topic_vals), axis=0)\n",
    "gpt2_feat_imp = np.sum(np.abs(gpt2_topic_vals), axis=0)\n",
    "\n",
    "topic_values, sorted_names = sort_shap(roberta_feat_imp, topic_names)\n",
    "for i in range(5):\n",
    "    print(f\"{sorted_names[i]}: {topic_values[i]}\")\n",
    "for i in range(5, 0, -1):\n",
    "    print(f\"{sorted_names[-i]}: {topic_values[-i]}\")\n",
    "\n",
    "print()\n",
    "topic_values, sorted_names = sort_shap(gpt2_feat_imp, topic_names)\n",
    "for i in range(5):\n",
    "    print(f\"{sorted_names[i]}: {topic_values[i]}\")\n",
    "for i in range(5, 0, -1):\n",
    "    print(f\"{sorted_names[-i]}: {topic_values[-i]}\")"
   ]
  },
  {
   "cell_type": "code",
   "execution_count": null,
   "metadata": {},
   "outputs": [],
   "source": []
  }
 ],
 "metadata": {
  "kernelspec": {
   "display_name": "lexx",
   "language": "python",
   "name": "python3"
  },
  "language_info": {
   "codemirror_mode": {
    "name": "ipython",
    "version": 3
   },
   "file_extension": ".py",
   "mimetype": "text/x-python",
   "name": "python",
   "nbconvert_exporter": "python",
   "pygments_lexer": "ipython3",
   "version": "3.10.9"
  },
  "orig_nbformat": 4,
  "vscode": {
   "interpreter": {
    "hash": "643c8de94e1a6f14c10796bc4742cda7b866ba13d8a7cf37541d0f9d17d91a71"
   }
  }
 },
 "nbformat": 4,
 "nbformat_minor": 2
}
